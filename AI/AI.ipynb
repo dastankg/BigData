{
 "cells": [
  {
   "cell_type": "code",
   "execution_count": 1,
   "id": "initial_id",
   "metadata": {
    "collapsed": true,
    "ExecuteTime": {
     "end_time": "2023-10-06T14:58:20.421478988Z",
     "start_time": "2023-10-06T14:58:20.113662249Z"
    }
   },
   "outputs": [],
   "source": [
    "import pandas as pd"
   ]
  },
  {
   "cell_type": "code",
   "execution_count": 2,
   "outputs": [],
   "source": [
    "data = pd.read_csv('file/train.csv')"
   ],
   "metadata": {
    "collapsed": false,
    "ExecuteTime": {
     "end_time": "2023-10-06T14:58:21.217006888Z",
     "start_time": "2023-10-06T14:58:21.206465995Z"
    }
   },
   "id": "2cc4271017b00dc3"
  },
  {
   "cell_type": "code",
   "execution_count": 5,
   "outputs": [
    {
     "data": {
      "text/plain": "Pclass\n1    38.233441\n2    29.877630\n3    25.140620\nName: Age, dtype: float64"
     },
     "execution_count": 5,
     "metadata": {},
     "output_type": "execute_result"
    }
   ],
   "source": [
    "average_age_by_class = data.groupby('Pclass')['Age'].mean()\n",
    "average_age_by_class"
   ],
   "metadata": {
    "collapsed": false,
    "ExecuteTime": {
     "end_time": "2023-10-06T14:58:38.833278099Z",
     "start_time": "2023-10-06T14:58:38.825212738Z"
    }
   },
   "id": "ca1f070d5edfb90e"
  },
  {
   "cell_type": "code",
   "execution_count": 8,
   "outputs": [
    {
     "data": {
      "text/plain": "Pclass\n1    12\n2    23\n3    78\nName: PassengerId, dtype: int64"
     },
     "execution_count": 8,
     "metadata": {},
     "output_type": "execute_result"
    }
   ],
   "source": [
    "children_filter = data['Age'] < 18\n",
    "children_by_class = data[children_filter].groupby('Pclass')['PassengerId'].count()\n",
    "children_by_class"
   ],
   "metadata": {
    "collapsed": false,
    "ExecuteTime": {
     "end_time": "2023-10-06T14:59:57.823904338Z",
     "start_time": "2023-10-06T14:59:57.803677342Z"
    }
   },
   "id": "e37db48893196f5e"
  },
  {
   "cell_type": "code",
   "execution_count": 9,
   "outputs": [
    {
     "data": {
      "text/plain": "80.0"
     },
     "execution_count": 9,
     "metadata": {},
     "output_type": "execute_result"
    }
   ],
   "source": [
    "survived_filter = data['Survived'] == 1\n",
    "oldest_survivor = data[survived_filter]['Age'].max()\n",
    "oldest_survivor"
   ],
   "metadata": {
    "collapsed": false,
    "ExecuteTime": {
     "end_time": "2023-10-06T15:01:42.789442703Z",
     "start_time": "2023-10-06T15:01:42.746070035Z"
    }
   },
   "id": "a0d660879fd32eef"
  },
  {
   "cell_type": "code",
   "execution_count": 16,
   "outputs": [
    {
     "name": "stdout",
     "output_type": "stream",
     "text": [
      "Выжило пассажиров с пропущенным возрастом: 52\n",
      "Погибло пассажиров с пропущенным возрастом: 125\n"
     ]
    }
   ],
   "source": [
    "\n",
    "# Создание фильтра для пассажиров с пропущенным возрастом\n",
    "missing_age_filter = data['Age'].isnull()\n",
    "\n",
    "# Создание фильтра для выживших пассажиров\n",
    "survived_filter = data['Survived'] == 1\n",
    "\n",
    "# Применение фильтра для пассажиров с пропущенным возрастом и подсчет выживших и погибших\n",
    "missing_age_survived = data[missing_age_filter & survived_filter]['PassengerId'].count()\n",
    "missing_age_died = data[missing_age_filter & ~survived_filter]['PassengerId'].count()\n",
    "\n",
    "# Вывод результатов\n",
    "print(\"Выжило пассажиров с пропущенным возрастом:\", missing_age_survived)\n",
    "print(\"Погибло пассажиров с пропущенным возрастом:\", missing_age_died)\n"
   ],
   "metadata": {
    "collapsed": false,
    "ExecuteTime": {
     "end_time": "2023-10-06T15:05:48.717253492Z",
     "start_time": "2023-10-06T15:05:48.706312339Z"
    }
   },
   "id": "e9cd9ef67a6841d4"
  },
  {
   "cell_type": "code",
   "execution_count": 24,
   "outputs": [
    {
     "name": "stdout",
     "output_type": "stream",
     "text": [
      "Процент выживших детей: 53.98%\n",
      "Процент выживших взрослых: 38.61%\n",
      "Процент выживших пожилых: 26.92%\n"
     ]
    }
   ],
   "source": [
    "children_filter = data['Age'] < 18  # Дети младше 18 лет\n",
    "adults_filter = (data['Age'] >= 18) & (data['Age'] < 60)  # Взрослые от 18 до 59 лет\n",
    "seniors_filter = data['Age'] >= 60  # Пожилые 60 лет и старше\n",
    "\n",
    "# Применение фильтров и подсчет процента выживших в каждой группе\n",
    "children_survived_percent = data[children_filter]['Survived'].mean() * 100\n",
    "adults_survived_percent = data[adults_filter]['Survived'].mean() * 100\n",
    "seniors_survived_percent = data[seniors_filter]['Survived'].mean() * 100\n",
    "\n",
    "# Вывод результатов\n",
    "print(\"Процент выживших детей: {:.2f}%\".format(children_survived_percent))\n",
    "print(\"Процент выживших взрослых: {:.2f}%\".format(adults_survived_percent))\n",
    "print(\"Процент выживших пожилых: {:.2f}%\".format(seniors_survived_percent))\n"
   ],
   "metadata": {
    "collapsed": false,
    "ExecuteTime": {
     "end_time": "2023-10-06T16:54:44.216693703Z",
     "start_time": "2023-10-06T16:54:44.150699190Z"
    }
   },
   "id": "69bb7278834df92e"
  },
  {
   "cell_type": "code",
   "execution_count": 18,
   "outputs": [
    {
     "name": "stdout",
     "output_type": "stream",
     "text": [
      "Медиана возраста выживших: 28.00\n",
      "Медиана возраста погибших: 28.00\n"
     ]
    }
   ],
   "source": [
    "died_filter = data['Survived'] == 0\n",
    "\n",
    "# Медиана возраста выживших\n",
    "median_age_survived = data[survived_filter]['Age'].median()\n",
    "\n",
    "# Медиана возраста погибших\n",
    "median_age_died = data[died_filter]['Age'].median()\n",
    "\n",
    "# Вывод результатов\n",
    "print(\"Медиана возраста выживших: {:.2f}\".format(median_age_survived))\n",
    "print(\"Медиана возраста погибших: {:.2f}\".format(median_age_died))"
   ],
   "metadata": {
    "collapsed": false,
    "ExecuteTime": {
     "end_time": "2023-10-06T15:07:02.000611891Z",
     "start_time": "2023-10-06T15:07:01.929033967Z"
    }
   },
   "id": "7184e29bb3434e2b"
  },
  {
   "cell_type": "code",
   "execution_count": 19,
   "outputs": [
    {
     "name": "stdout",
     "output_type": "stream",
     "text": [
      "Коэффициент корреляции Пирсона между возрастом и ценой билета: 0.0960666917690389\n"
     ]
    }
   ],
   "source": [
    "correlation = data['Age'].corr(data['Fare'])\n",
    "\n",
    "# Вывод результата\n",
    "print(\"Коэффициент корреляции Пирсона между возрастом и ценой билета:\", correlation)"
   ],
   "metadata": {
    "collapsed": false,
    "ExecuteTime": {
     "end_time": "2023-10-06T15:07:47.834246784Z",
     "start_time": "2023-10-06T15:07:47.751283933Z"
    }
   },
   "id": "69ca1c7e2343bdec"
  },
  {
   "cell_type": "code",
   "execution_count": 20,
   "outputs": [
    {
     "name": "stdout",
     "output_type": "stream",
     "text": [
      "Количество пассажиров старше 60 лет на борту:  22\n"
     ]
    }
   ],
   "source": [
    "passengers_over_60 = data[data['Age'] > 60]\n",
    "\n",
    "# Подсчет количества пассажиров старше 60 лет\n",
    "count_passengers_over_60 = passengers_over_60.shape[0]\n",
    "\n",
    "# Вывод результата\n",
    "print(\"Количество пассажиров старше 60 лет на борту: \", count_passengers_over_60)"
   ],
   "metadata": {
    "collapsed": false,
    "ExecuteTime": {
     "end_time": "2023-10-06T15:09:01.174409867Z",
     "start_time": "2023-10-06T15:09:01.100567122Z"
    }
   },
   "id": "ce33762e7ba3c49d"
  },
  {
   "cell_type": "code",
   "execution_count": 21,
   "outputs": [
    {
     "name": "stdout",
     "output_type": "stream",
     "text": [
      "Количество детей, путешествующих с родителями:  81\n"
     ]
    }
   ],
   "source": [
    "# Создание фильтра для детей путешествующих с родителями\n",
    "children_with_parents_filter = (data['Age'] < 18) & (data['Parch'] > 0)\n",
    "\n",
    "# Подсчет количества детей, путешествующих с родителями\n",
    "count_children_with_parents = data[children_with_parents_filter].shape[0]\n",
    "\n",
    "# Вывод результата\n",
    "print(\"Количество детей, путешествующих с родителями: \", count_children_with_parents)"
   ],
   "metadata": {
    "collapsed": false,
    "ExecuteTime": {
     "end_time": "2023-10-06T15:10:37.786740888Z",
     "start_time": "2023-10-06T15:10:37.739206511Z"
    }
   },
   "id": "341edd79b51ed09b"
  },
  {
   "cell_type": "code",
   "execution_count": 22,
   "outputs": [
    {
     "name": "stdout",
     "output_type": "stream",
     "text": [
      "Самый молодой пассажир, путешествовавший в одиночку, был возрастом: 5.0 лет.\n"
     ]
    }
   ],
   "source": [
    "alone_passenger_filter = (data['SibSp'] == 0) & (data['Parch'] == 0)\n",
    "\n",
    "# Нахождение самого молодого пассажира, путешествующего в одиночку\n",
    "youngest_alone_passenger = data[alone_passenger_filter]['Age'].min()\n",
    "\n",
    "# Вывод результата\n",
    "print(\"Самый молодой пассажир, путешествовавший в одиночку, был возрастом:\", youngest_alone_passenger, \"лет.\")"
   ],
   "metadata": {
    "collapsed": false,
    "ExecuteTime": {
     "end_time": "2023-10-06T15:11:15.172581250Z",
     "start_time": "2023-10-06T15:11:15.090909484Z"
    }
   },
   "id": "c93faca92236db9a"
  },
  {
   "cell_type": "code",
   "execution_count": null,
   "outputs": [],
   "source": [],
   "metadata": {
    "collapsed": false
   },
   "id": "48b7c2d3ad9cb58"
  }
 ],
 "metadata": {
  "kernelspec": {
   "display_name": "Python 3",
   "language": "python",
   "name": "python3"
  },
  "language_info": {
   "codemirror_mode": {
    "name": "ipython",
    "version": 2
   },
   "file_extension": ".py",
   "mimetype": "text/x-python",
   "name": "python",
   "nbconvert_exporter": "python",
   "pygments_lexer": "ipython2",
   "version": "2.7.6"
  }
 },
 "nbformat": 4,
 "nbformat_minor": 5
}
