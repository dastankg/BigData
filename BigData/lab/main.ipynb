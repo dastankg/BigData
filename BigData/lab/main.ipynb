{
 "cells": [
  {
   "cell_type": "code",
   "execution_count": null,
   "outputs": [],
   "source": [
    "#Sazanov Dastan\n",
    "#AIN-1-21\n"
   ],
   "metadata": {
    "collapsed": false
   }
  },
  {
   "cell_type": "code",
   "execution_count": 14,
   "outputs": [],
   "source": [
    "#Проверка библиотек\n",
    "import numpy\n",
    "import matplotlib\n",
    "import scipy\n",
    "import sklearn.cluster"
   ],
   "metadata": {
    "collapsed": false,
    "ExecuteTime": {
     "end_time": "2023-09-12T10:46:02.865048669Z",
     "start_time": "2023-09-12T10:46:02.839430822Z"
    }
   }
  },
  {
   "cell_type": "code",
   "execution_count": 15,
   "outputs": [
    {
     "data": {
      "text/plain": "<__main__.TreeNode at 0x7fbcc9a67250>"
     },
     "execution_count": 15,
     "metadata": {},
     "output_type": "execute_result"
    }
   ],
   "source": [
    "#Обход дерево с удалинем листовых узлов со значением 0\n",
    "from typing import Optional\n",
    "\n",
    "\n",
    "class TreeNode:\n",
    "    def __init__(self, val=0, left=None, right=None):\n",
    "        self.val = val\n",
    "        self.left = left\n",
    "        self.right = right\n",
    "\n",
    "\n",
    "class Solution:\n",
    "    def pruneTree(self, root: Optional[TreeNode]) -> Optional[TreeNode]:\n",
    "        if root is None:\n",
    "            return None\n",
    "        root.left = self.pruneTree(root.left)\n",
    "        root.right = self.pruneTree(root.right)\n",
    "        if root.val == 0 and root.left is None and root.right is None:\n",
    "            return None\n",
    "        return root\n",
    "\n",
    "\n",
    "root = TreeNode(1)\n",
    "root.left = TreeNode(0)\n",
    "root.right = TreeNode(1)\n",
    "root.left.left = TreeNode(0)\n",
    "root.left.right = TreeNode(0)\n",
    "root.right.right = TreeNode(1)\n",
    "root.right.left = TreeNode(0)\n",
    "f = Solution()\n",
    "f.pruneTree(root)\n",
    "\n"
   ],
   "metadata": {
    "collapsed": false,
    "ExecuteTime": {
     "end_time": "2023-09-12T10:46:25.430133664Z",
     "start_time": "2023-09-12T10:46:25.396406264Z"
    }
   }
  },
  {
   "cell_type": "code",
   "execution_count": 16,
   "outputs": [],
   "source": [
    "#Решение с помошью ДП задачи где нужно создать строки длины n состоящих только из гласных букв\n",
    "class Solution:\n",
    "    def countVowelStrings(self, n: int) -> int:\n",
    "        l = [1, 1, 1, 1, 1]\n",
    "        for i in range(n - 1):\n",
    "            l[i] += l[i - 1]\n",
    "        ans = 0\n",
    "        for i in l:\n",
    "            ans += i\n",
    "        return ans"
   ],
   "metadata": {
    "collapsed": false,
    "ExecuteTime": {
     "end_time": "2023-09-12T10:46:25.612121420Z",
     "start_time": "2023-09-12T10:46:25.606814290Z"
    }
   }
  },
  {
   "cell_type": "markdown",
   "source": [
    "<!DOCTYPE html>\n",
    "<html>\n",
    "<head>\n",
    "    <title>Пример HTML</title>\n",
    "</head>\n",
    "<body>\n",
    "    <h1>Заголовок</h1>\n",
    "    <p>Это абзац текста.</p>\n",
    "    <img src=\"data:image/png;base64,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\" alt=\"Красивый пейзаж\">\n",
    "</body>\n",
    "</html>\n"
   ],
   "metadata": {
    "collapsed": false
   }
  },
  {
   "cell_type": "code",
   "execution_count": 11,
   "outputs": [
    {
     "data": {
      "text/plain": "'/home/dastan/Code/AI'"
     },
     "execution_count": 11,
     "metadata": {},
     "output_type": "execute_result"
    }
   ],
   "source": [
    "!ping google.com"
   ],
   "metadata": {
    "collapsed": false,
    "ExecuteTime": {
     "end_time": "2023-09-12T10:39:57.899866947Z",
     "start_time": "2023-09-12T10:39:57.865167541Z"
    }
   }
  },
  {
   "cell_type": "code",
   "execution_count": null,
   "outputs": [],
   "source": [],
   "metadata": {
    "collapsed": false
   }
  }
 ],
 "metadata": {
  "kernelspec": {
   "display_name": "Python 3",
   "language": "python",
   "name": "python3"
  },
  "language_info": {
   "codemirror_mode": {
    "name": "ipython",
    "version": 2
   },
   "file_extension": ".py",
   "mimetype": "text/x-python",
   "name": "python",
   "nbconvert_exporter": "python",
   "pygments_lexer": "ipython2",
   "version": "2.7.6"
  }
 },
 "nbformat": 4,
 "nbformat_minor": 0
}
