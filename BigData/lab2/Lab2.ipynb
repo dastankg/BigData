{
 "cells": [
  {
   "cell_type": "code",
   "execution_count": 1,
   "outputs": [],
   "source": [
    "import numpy as np"
   ],
   "metadata": {
    "collapsed": false,
    "ExecuteTime": {
     "end_time": "2023-10-03T04:17:29.537399067Z",
     "start_time": "2023-10-03T04:17:29.530058939Z"
    }
   }
  },
  {
   "cell_type": "code",
   "execution_count": 2,
   "outputs": [
    {
     "data": {
      "text/plain": "array([  5,  10,  15,  20,  25,  30,  35,  40,  45,  50,  55,  60,  65,\n        70,  75,  80,  85,  90,  95, 100])"
     },
     "execution_count": 2,
     "metadata": {},
     "output_type": "execute_result"
    }
   ],
   "source": [
    "my_array = np.arange(5, 101, 5)\n",
    "my_array"
   ],
   "metadata": {
    "collapsed": false,
    "ExecuteTime": {
     "end_time": "2023-10-03T04:17:32.687300258Z",
     "start_time": "2023-10-03T04:17:32.678949118Z"
    }
   }
  },
  {
   "cell_type": "code",
   "execution_count": 3,
   "outputs": [
    {
     "data": {
      "text/plain": "array([ 10,  20,  30,  40,  50,  60,  70,  80,  90, 100])"
     },
     "execution_count": 3,
     "metadata": {},
     "output_type": "execute_result"
    }
   ],
   "source": [
    "my_array = my_array[1::2]\n",
    "my_array"
   ],
   "metadata": {
    "collapsed": false,
    "ExecuteTime": {
     "end_time": "2023-10-03T04:17:35.832800452Z",
     "start_time": "2023-10-03T04:17:35.824043987Z"
    }
   }
  },
  {
   "cell_type": "code",
   "execution_count": 4,
   "outputs": [
    {
     "data": {
      "text/plain": "array([[ 10,  20],\n       [ 30,  40],\n       [ 50,  60],\n       [ 70,  80],\n       [ 90, 100]])"
     },
     "execution_count": 4,
     "metadata": {},
     "output_type": "execute_result"
    }
   ],
   "source": [
    "my_array = my_array.reshape(5, 2)\n",
    "my_array"
   ],
   "metadata": {
    "collapsed": false,
    "ExecuteTime": {
     "end_time": "2023-10-03T04:17:41.011175782Z",
     "start_time": "2023-10-03T04:17:41.004405792Z"
    }
   }
  },
  {
   "cell_type": "code",
   "execution_count": 8,
   "outputs": [
    {
     "data": {
      "text/plain": "array([[ 5, 15],\n       [25, 35],\n       [45, 55],\n       [65, 75],\n       [85, 95]])"
     },
     "execution_count": 8,
     "metadata": {},
     "output_type": "execute_result"
    }
   ],
   "source": [
    "my_second_array = my_array - 5\n",
    "my_second_array"
   ],
   "metadata": {
    "collapsed": false,
    "ExecuteTime": {
     "end_time": "2023-09-20T14:43:58.539053891Z",
     "start_time": "2023-09-20T14:43:58.519562116Z"
    }
   }
  },
  {
   "cell_type": "code",
   "execution_count": 10,
   "outputs": [
    {
     "data": {
      "text/plain": "array([[ 10,  20,   5,  15],\n       [ 30,  40,  25,  35],\n       [ 50,  60,  45,  55],\n       [ 70,  80,  65,  75],\n       [ 90, 100,  85,  95]])"
     },
     "execution_count": 10,
     "metadata": {},
     "output_type": "execute_result"
    }
   ],
   "source": [
    "res = np.concatenate((my_array, my_second_array), axis=1)\n",
    "res"
   ],
   "metadata": {
    "collapsed": false,
    "ExecuteTime": {
     "end_time": "2023-09-20T14:44:16.947646389Z",
     "start_time": "2023-09-20T14:44:16.933195736Z"
    }
   }
  },
  {
   "cell_type": "code",
   "execution_count": 12,
   "outputs": [
    {
     "data": {
      "text/plain": "array([[ 10,  20,   5,  15],\n       [  3,   2,   5,   2],\n       [ 16,  30,   9,  27],\n       [ 70,  80,  65,  75],\n       [ 90, 100,  85,  95]])"
     },
     "execution_count": 12,
     "metadata": {},
     "output_type": "execute_result"
    }
   ],
   "source": [
    "res[1] = res[1] / res[0]\n",
    "res[2] = res[2] / res[1]\n",
    "res"
   ],
   "metadata": {
    "collapsed": false,
    "ExecuteTime": {
     "end_time": "2023-09-20T14:45:00.947991170Z",
     "start_time": "2023-09-20T14:45:00.907983604Z"
    }
   }
  },
  {
   "cell_type": "code",
   "execution_count": 15,
   "outputs": [
    {
     "data": {
      "text/plain": "array([ 10,  20,   5,  15,   3,   2,   5,   2,  16,  30,   9,  27,  70,\n        80,  65,  75,  90, 100,  85,  95])"
     },
     "execution_count": 15,
     "metadata": {},
     "output_type": "execute_result"
    }
   ],
   "source": [
    "unchanged = res[res == res.astype(int)]\n",
    "unchanged"
   ],
   "metadata": {
    "collapsed": false,
    "ExecuteTime": {
     "end_time": "2023-09-20T14:49:06.042088219Z",
     "start_time": "2023-09-20T14:49:06.031051494Z"
    }
   }
  },
  {
   "cell_type": "code",
   "execution_count": 16,
   "outputs": [
    {
     "data": {
      "text/plain": "array([[0.07093583, 0.08521283, 0.63139928],\n       [0.45411996, 0.08041167, 0.237516  ],\n       [0.73050231, 0.86708494, 0.97964901]])"
     },
     "execution_count": 16,
     "metadata": {},
     "output_type": "execute_result"
    }
   ],
   "source": [
    "my_array = np.random.random((3, 3))\n",
    "my_array"
   ],
   "metadata": {
    "collapsed": false,
    "ExecuteTime": {
     "end_time": "2023-09-20T14:49:16.814347717Z",
     "start_time": "2023-09-20T14:49:16.804996801Z"
    }
   }
  },
  {
   "cell_type": "code",
   "execution_count": 17,
   "outputs": [
    {
     "data": {
      "text/plain": "array([[0.73050231, 0.86708494, 0.97964901],\n       [0.45411996, 0.08041167, 0.237516  ],\n       [0.73050231, 0.86708494, 0.97964901]])"
     },
     "execution_count": 17,
     "metadata": {},
     "output_type": "execute_result"
    }
   ],
   "source": [
    "my_array[0], my_array[2] = my_array[2], my_array[0]\n",
    "my_array"
   ],
   "metadata": {
    "collapsed": false,
    "ExecuteTime": {
     "end_time": "2023-09-20T14:50:02.490677193Z",
     "start_time": "2023-09-20T14:50:02.465105666Z"
    }
   }
  },
  {
   "cell_type": "code",
   "execution_count": 18,
   "outputs": [
    {
     "name": "stdout",
     "output_type": "stream",
     "text": [
      "[0.85907875 0.25734921 0.85907875]\n",
      "\n",
      "[0.86708494 0.237516   0.86708494]\n",
      "\n",
      "[0.10187114 0.15320898 0.10187114]\n"
     ]
    }
   ],
   "source": [
    "print(np.mean(my_array, axis=1))\n",
    "print()\n",
    "print(np.median(my_array, axis=1))\n",
    "print()\n",
    "print(np.std(my_array, axis=1))"
   ],
   "metadata": {
    "collapsed": false,
    "ExecuteTime": {
     "end_time": "2023-09-20T14:50:06.498524978Z",
     "start_time": "2023-09-20T14:50:06.432322757Z"
    }
   }
  },
  {
   "cell_type": "code",
   "execution_count": 19,
   "outputs": [
    {
     "data": {
      "text/plain": "array([[0.74567758, 0.88509755, 1.        ],\n       [1.        , 0.17707144, 0.52302479],\n       [0.74567758, 0.88509755, 1.        ]])"
     },
     "execution_count": 19,
     "metadata": {},
     "output_type": "execute_result"
    }
   ],
   "source": [
    "max_val = np.max(my_array, axis=1)\n",
    "ans = my_array / max_val[:, np.newaxis]\n",
    "ans"
   ],
   "metadata": {
    "collapsed": false,
    "ExecuteTime": {
     "end_time": "2023-09-20T14:50:20.681952699Z",
     "start_time": "2023-09-20T14:50:20.650330279Z"
    }
   }
  },
  {
   "cell_type": "code",
   "execution_count": null,
   "outputs": [],
   "source": [],
   "metadata": {
    "collapsed": false
   }
  }
 ],
 "metadata": {
  "kernelspec": {
   "display_name": "Python 3",
   "language": "python",
   "name": "python3"
  },
  "language_info": {
   "codemirror_mode": {
    "name": "ipython",
    "version": 2
   },
   "file_extension": ".py",
   "mimetype": "text/x-python",
   "name": "python",
   "nbconvert_exporter": "python",
   "pygments_lexer": "ipython2",
   "version": "2.7.6"
  }
 },
 "nbformat": 4,
 "nbformat_minor": 0
}
