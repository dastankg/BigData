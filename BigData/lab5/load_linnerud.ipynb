{
 "cells": [
  {
   "cell_type": "code",
   "execution_count": null,
   "outputs": [],
   "source": [
    "import matplotlib.pyplot as plt\n",
    "import numpy as np\n",
    "from sklearn.preprocessing import StandardScaler\n",
    "from sklearn.datasets import load_linnerud\n",
    "from sklearn.linear_model import LinearRegression, Ridge, Lasso\n",
    "from sklearn.neighbors import KNeighborsRegressor\n",
    "\n",
    "\n",
    "\n"
   ],
   "metadata": {
    "collapsed": false
   },
   "id": "1e0101ec1606e8dc"
  },
  {
   "cell_type": "code",
   "execution_count": null,
   "outputs": [],
   "source": [
    "data = load_linnerud()\n",
    "X, y = data.data, data.target\n",
    "feature_names = data.feature_names\n",
    "target_names = data.target_names\n",
    "\n",
    "# Display dataset information\n",
    "print(\"Feature Names:\", feature_names)\n",
    "print(\"Target Names:\", target_names)\n",
    "print(\"Data Shape:\", X.shape)\n",
    "print(\"Target Shape:\", y.shape)\n",
    "\n",
    "# Plot the data\n",
    "fig, axs = plt.subplots(1, 3, figsize=(15, 5))\n",
    "for i in range(3):\n",
    "    axs[i].scatter(X[:, i], y[:, i])\n",
    "    axs[i].set_xlabel(feature_names[i])\n",
    "    axs[i].set_ylabel(target_names[i])\n",
    "    axs[i].set_title(f\"{feature_names[i]} vs. {target_names[i]}\")\n",
    "\n",
    "plt.tight_layout()\n",
    "plt.show()"
   ],
   "metadata": {
    "collapsed": false
   },
   "id": "380d164d48d04d46"
  },
  {
   "cell_type": "code",
   "execution_count": null,
   "outputs": [],
   "source": [
    "# Load the dataset\n",
    "X, y = load_linnerud(return_X_y=True)\n",
    "\n",
    "# Standardize the features\n",
    "scaler = StandardScaler()\n",
    "X_scaled = scaler.fit_transform(X)\n",
    "\n",
    "# Create and evaluate models\n",
    "models = {\n",
    "    \"KNeighborsRegressor\": KNeighborsRegressor(),\n",
    "    \"LinearRegression\": LinearRegression(),\n",
    "    \"Ridge\": Ridge(),\n",
    "    \"Lasso\": Lasso()\n",
    "}\n",
    "\n",
    "model_scores = {}\n",
    "\n",
    "for model_name, model in models.items():\n",
    "    model.fit(X_scaled, y)\n",
    "    score = model.score(X_scaled, y)\n",
    "    model_scores[model_name] = score\n",
    "\n",
    "# Plot the model scores\n",
    "plt.figure(figsize=(10, 6))\n",
    "plt.bar(model_scores.keys(), model_scores.values(), color='skyblue')\n",
    "plt.title('Model Performance')\n",
    "plt.ylabel('R-squared Score')\n",
    "plt.xticks(rotation=15)\n",
    "plt.ylim(0, 1.0)\n",
    "\n",
    "for model_name, score in model_scores.items():\n",
    "    plt.text(model_name, score, f'{score:.2f}', ha='center', va='bottom')\n",
    "plt.show()"
   ],
   "metadata": {
    "collapsed": false
   },
   "id": "23089706eea08245"
  },
  {
   "cell_type": "markdown",
   "source": [
    "<h1> Так как задание похоже и + этот датасет легче чем тот особо особенно не делал.\n",
    "Просто сделал то что нужно было.\n"
   ],
   "metadata": {
    "collapsed": false
   },
   "id": "b69a077e1b521489"
  },
  {
   "cell_type": "code",
   "execution_count": null,
   "outputs": [],
   "source": [],
   "metadata": {
    "collapsed": false
   },
   "id": "84ea160babb59d1a"
  }
 ],
 "metadata": {
  "kernelspec": {
   "display_name": "Python 3",
   "language": "python",
   "name": "python3"
  },
  "language_info": {
   "codemirror_mode": {
    "name": "ipython",
    "version": 2
   },
   "file_extension": ".py",
   "mimetype": "text/x-python",
   "name": "python",
   "nbconvert_exporter": "python",
   "pygments_lexer": "ipython2",
   "version": "2.7.6"
  }
 },
 "nbformat": 4,
 "nbformat_minor": 5
}
