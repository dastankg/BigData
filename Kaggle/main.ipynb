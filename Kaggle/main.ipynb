{
 "cells": [
  {
   "cell_type": "code",
   "execution_count": 1,
   "outputs": [],
   "source": [
    "import pandas as pd"
   ],
   "metadata": {
    "collapsed": false,
    "ExecuteTime": {
     "end_time": "2023-10-13T09:28:59.961055998Z",
     "start_time": "2023-10-13T09:28:59.656459707Z"
    }
   },
   "id": "f2cfbd68804f3580"
  },
  {
   "cell_type": "code",
   "execution_count": 2,
   "outputs": [],
   "source": [
    "reviews = pd.read_csv('file/winemag-data-130k-v2.csv')"
   ],
   "metadata": {
    "collapsed": false,
    "ExecuteTime": {
     "end_time": "2023-10-13T09:29:00.719446191Z",
     "start_time": "2023-10-13T09:28:59.961537627Z"
    }
   },
   "id": "7418f09085067c0c"
  },
  {
   "cell_type": "markdown",
   "source": [],
   "metadata": {
    "collapsed": false
   },
   "id": "af5cb7a57142e9b1"
  },
  {
   "cell_type": "code",
   "execution_count": 48,
   "outputs": [
    {
     "name": "stderr",
     "output_type": "stream",
     "text": [
      "/tmp/ipykernel_4577/190109348.py:1: FutureWarning: The provided callable <built-in function min> is currently using SeriesGroupBy.min. In a future version of pandas, the provided callable will be used directly. To keep current behavior pass 'min' instead.\n",
      "  price_extremes = reviews.groupby('variety').price.agg([min, max]).reset_index().sort_values(by=['min', 'max'])\n",
      "/tmp/ipykernel_4577/190109348.py:1: FutureWarning: The provided callable <built-in function max> is currently using SeriesGroupBy.max. In a future version of pandas, the provided callable will be used directly. To keep current behavior pass 'max' instead.\n",
      "  price_extremes = reviews.groupby('variety').price.agg([min, max]).reset_index().sort_values(by=['min', 'max'])\n"
     ]
    },
    {
     "data": {
      "text/plain": "                            variety  min    max\n434                    Pinot Grigio  4.0   70.0\n289                    Malbec-Syrah  4.0   78.0\n690                     White Blend  4.0  375.0\n584                     Tempranillo  4.0  600.0\n80               Cabernet Sauvignon  4.0  625.0\n..                              ...  ...    ...\n490                        Roscetto  NaN    NaN\n518  Sauvignon Blanc-Sauvignon Gris  NaN    NaN\n589              Tempranillo-Malbec  NaN    NaN\n681                           Vital  NaN    NaN\n698                           Zelen  NaN    NaN\n\n[707 rows x 3 columns]",
      "text/html": "<div>\n<style scoped>\n    .dataframe tbody tr th:only-of-type {\n        vertical-align: middle;\n    }\n\n    .dataframe tbody tr th {\n        vertical-align: top;\n    }\n\n    .dataframe thead th {\n        text-align: right;\n    }\n</style>\n<table border=\"1\" class=\"dataframe\">\n  <thead>\n    <tr style=\"text-align: right;\">\n      <th></th>\n      <th>variety</th>\n      <th>min</th>\n      <th>max</th>\n    </tr>\n  </thead>\n  <tbody>\n    <tr>\n      <th>434</th>\n      <td>Pinot Grigio</td>\n      <td>4.0</td>\n      <td>70.0</td>\n    </tr>\n    <tr>\n      <th>289</th>\n      <td>Malbec-Syrah</td>\n      <td>4.0</td>\n      <td>78.0</td>\n    </tr>\n    <tr>\n      <th>690</th>\n      <td>White Blend</td>\n      <td>4.0</td>\n      <td>375.0</td>\n    </tr>\n    <tr>\n      <th>584</th>\n      <td>Tempranillo</td>\n      <td>4.0</td>\n      <td>600.0</td>\n    </tr>\n    <tr>\n      <th>80</th>\n      <td>Cabernet Sauvignon</td>\n      <td>4.0</td>\n      <td>625.0</td>\n    </tr>\n    <tr>\n      <th>...</th>\n      <td>...</td>\n      <td>...</td>\n      <td>...</td>\n    </tr>\n    <tr>\n      <th>490</th>\n      <td>Roscetto</td>\n      <td>NaN</td>\n      <td>NaN</td>\n    </tr>\n    <tr>\n      <th>518</th>\n      <td>Sauvignon Blanc-Sauvignon Gris</td>\n      <td>NaN</td>\n      <td>NaN</td>\n    </tr>\n    <tr>\n      <th>589</th>\n      <td>Tempranillo-Malbec</td>\n      <td>NaN</td>\n      <td>NaN</td>\n    </tr>\n    <tr>\n      <th>681</th>\n      <td>Vital</td>\n      <td>NaN</td>\n      <td>NaN</td>\n    </tr>\n    <tr>\n      <th>698</th>\n      <td>Zelen</td>\n      <td>NaN</td>\n      <td>NaN</td>\n    </tr>\n  </tbody>\n</table>\n<p>707 rows × 3 columns</p>\n</div>"
     },
     "execution_count": 48,
     "metadata": {},
     "output_type": "execute_result"
    }
   ],
   "source": [
    "price_extremes = reviews.groupby('variety').price.agg([min, max])"
   ],
   "metadata": {
    "collapsed": false,
    "ExecuteTime": {
     "end_time": "2023-10-13T10:12:12.915916834Z",
     "start_time": "2023-10-13T10:12:12.896247108Z"
    }
   },
   "id": "d0b5ff419fa02d00"
  },
  {
   "cell_type": "code",
   "execution_count": 49,
   "outputs": [
    {
     "data": {
      "text/plain": "                            variety    min    max\n469                         Ramisco  495.0  495.0\n597                       Terrantez  236.0  236.0\n183                        Francisa  160.0  160.0\n491                Rosenmuskateller  150.0  150.0\n607                Tinta Negra Mole  112.0  112.0\n..                              ...    ...    ...\n490                        Roscetto    NaN    NaN\n518  Sauvignon Blanc-Sauvignon Gris    NaN    NaN\n589              Tempranillo-Malbec    NaN    NaN\n681                           Vital    NaN    NaN\n698                           Zelen    NaN    NaN\n\n[707 rows x 3 columns]",
      "text/html": "<div>\n<style scoped>\n    .dataframe tbody tr th:only-of-type {\n        vertical-align: middle;\n    }\n\n    .dataframe tbody tr th {\n        vertical-align: top;\n    }\n\n    .dataframe thead th {\n        text-align: right;\n    }\n</style>\n<table border=\"1\" class=\"dataframe\">\n  <thead>\n    <tr style=\"text-align: right;\">\n      <th></th>\n      <th>variety</th>\n      <th>min</th>\n      <th>max</th>\n    </tr>\n  </thead>\n  <tbody>\n    <tr>\n      <th>469</th>\n      <td>Ramisco</td>\n      <td>495.0</td>\n      <td>495.0</td>\n    </tr>\n    <tr>\n      <th>597</th>\n      <td>Terrantez</td>\n      <td>236.0</td>\n      <td>236.0</td>\n    </tr>\n    <tr>\n      <th>183</th>\n      <td>Francisa</td>\n      <td>160.0</td>\n      <td>160.0</td>\n    </tr>\n    <tr>\n      <th>491</th>\n      <td>Rosenmuskateller</td>\n      <td>150.0</td>\n      <td>150.0</td>\n    </tr>\n    <tr>\n      <th>607</th>\n      <td>Tinta Negra Mole</td>\n      <td>112.0</td>\n      <td>112.0</td>\n    </tr>\n    <tr>\n      <th>...</th>\n      <td>...</td>\n      <td>...</td>\n      <td>...</td>\n    </tr>\n    <tr>\n      <th>490</th>\n      <td>Roscetto</td>\n      <td>NaN</td>\n      <td>NaN</td>\n    </tr>\n    <tr>\n      <th>518</th>\n      <td>Sauvignon Blanc-Sauvignon Gris</td>\n      <td>NaN</td>\n      <td>NaN</td>\n    </tr>\n    <tr>\n      <th>589</th>\n      <td>Tempranillo-Malbec</td>\n      <td>NaN</td>\n      <td>NaN</td>\n    </tr>\n    <tr>\n      <th>681</th>\n      <td>Vital</td>\n      <td>NaN</td>\n      <td>NaN</td>\n    </tr>\n    <tr>\n      <th>698</th>\n      <td>Zelen</td>\n      <td>NaN</td>\n      <td>NaN</td>\n    </tr>\n  </tbody>\n</table>\n<p>707 rows × 3 columns</p>\n</div>"
     },
     "execution_count": 49,
     "metadata": {},
     "output_type": "execute_result"
    }
   ],
   "source": [
    "sorted_varieties = price_extremes.sort_values(by=['min', 'max'], ascending=False)\n",
    "sorted_varieties"
   ],
   "metadata": {
    "collapsed": false,
    "ExecuteTime": {
     "end_time": "2023-10-13T10:16:19.760364940Z",
     "start_time": "2023-10-13T10:16:19.739424216Z"
    }
   },
   "id": "c6cd0a81991993fb"
  },
  {
   "cell_type": "code",
   "execution_count": 50,
   "outputs": [
    {
     "data": {
      "text/plain": "taster_name\nAlexander Peartree    85.855422\nAnna Lee C. Iijima    88.415629\nAnne Krebiehl MW      90.562551\nCarrie Dykes          86.395683\nChristina Pickard     87.833333\nFiona Adams           86.888889\nJeff Jenssen          88.319756\nJim Gordon            88.626287\nJoe Czerwinski        88.536235\nKerin O’Keefe         88.867947\nLauren Buzzeo         87.739510\nMatt Kettmann         90.008686\nMichael Schachner     86.907493\nMike DeSimone         89.101167\nPaul Gregutt          89.082564\nRoger Voss            88.708003\nSean P. Sullivan      88.755739\nSusan Kostrzewa       86.609217\nVirginie Boone        89.213379\nName: points, dtype: float64"
     },
     "execution_count": 50,
     "metadata": {},
     "output_type": "execute_result"
    }
   ],
   "source": [
    "reviewer_mean_ratings = reviews.groupby('taster_name').points.mean()\n",
    "reviewer_mean_ratings\n"
   ],
   "metadata": {
    "collapsed": false,
    "ExecuteTime": {
     "end_time": "2023-10-13T10:18:55.155688418Z",
     "start_time": "2023-10-13T10:18:55.096380799Z"
    }
   },
   "id": "b4bb665c1bb6363a"
  },
  {
   "cell_type": "code",
   "execution_count": 64,
   "outputs": [
    {
     "data": {
      "text/plain": "country  variety                 \nUS       Pinot Noir                  9885\n         Cabernet Sauvignon          7315\n         Chardonnay                  6801\nFrance   Bordeaux-style Red Blend    4725\nItaly    Red Blend                   3624\n                                     ... \nMexico   Cinsault                       1\n         Grenache                       1\n         Merlot                         1\n         Rosado                         1\nUruguay  White Blend                    1\nLength: 1612, dtype: int64"
     },
     "execution_count": 64,
     "metadata": {},
     "output_type": "execute_result"
    }
   ],
   "source": [
    "country_variety_counts = reviews.groupby(['country', 'variety']).size().sort_values(ascending=False)\n",
    "country_variety_counts"
   ],
   "metadata": {
    "collapsed": false,
    "ExecuteTime": {
     "end_time": "2023-10-13T10:32:44.208174725Z",
     "start_time": "2023-10-13T10:32:44.165345645Z"
    }
   },
   "id": "d6557766c22100b4"
  },
  {
   "cell_type": "code",
   "execution_count": null,
   "outputs": [],
   "source": [],
   "metadata": {
    "collapsed": false
   },
   "id": "3dc806175c8b5da5"
  }
 ],
 "metadata": {
  "kernelspec": {
   "display_name": "Python 3",
   "language": "python",
   "name": "python3"
  },
  "language_info": {
   "codemirror_mode": {
    "name": "ipython",
    "version": 2
   },
   "file_extension": ".py",
   "mimetype": "text/x-python",
   "name": "python",
   "nbconvert_exporter": "python",
   "pygments_lexer": "ipython2",
   "version": "2.7.6"
  }
 },
 "nbformat": 4,
 "nbformat_minor": 5
}
